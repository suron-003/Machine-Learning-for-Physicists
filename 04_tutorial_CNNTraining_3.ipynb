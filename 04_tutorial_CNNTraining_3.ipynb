{
 "cells": [
  {
   "cell_type": "markdown",
   "metadata": {},
   "source": [
    "# Visualizing the training of Convolutional Neural Networks (with keras)"
   ]
  },
  {
   "cell_type": "markdown",
   "metadata": {},
   "source": [
    "Example code for the lecture series \"Machine Learning for Physicists\" by Florian Marquardt\n",
    "\n",
    "Lecture 4, Tutorials\n",
    "\n",
    "See https://machine-learning-for-physicists.org and the current course website linked there!"
   ]
  },
  {
   "cell_type": "markdown",
   "metadata": {},
   "source": [
    "This notebook shows how to:\n",
    "- visualize the training of convolutional autoencoders using keras\n",
    "\n",
    "The networks are 2D convolutional networks, with the same input and output dimensions, and a bottleneck layer in the middle.\n",
    "\n",
    "You define the network and the type of images that are generated for training – this notebook will help you visualize the training evolution."
   ]
  },
  {
   "cell_type": "markdown",
   "metadata": {},
   "source": [
    "### Imports: numpy and matplotlib and keras"
   ]
  },
  {
   "cell_type": "code",
   "execution_count": 2,
   "metadata": {},
   "outputs": [],
   "source": [
    "# keras: Sequential is the neural-network class, Dense is\n",
    "# the standard network layer\n",
    "from tensorflow.python.keras import Sequential\n",
    "from tensorflow.python.keras import Model\n",
    "from tensorflow.python.keras.layers import Dense, Conv2D, AveragePooling2D, UpSampling2D\n",
    "from tensorflow.python.keras import optimizers # to choose more advanced optimizers like 'adam'\n",
    "\n",
    "import numpy as np\n",
    "\n",
    "import matplotlib.pyplot as plt # for plotting\n",
    "import matplotlib\n",
    "matplotlib.rcParams['figure.dpi']=300 # highres display\n",
    "\n",
    "# for subplots within subplots:\n",
    "from matplotlib import gridspec\n",
    "\n",
    "# for nice inset colorbars: (approach changed from lecture 1 'Visualization' notebook)\n",
    "from mpl_toolkits.axes_grid1.inset_locator import InsetPosition\n",
    "\n",
    "# for updating display \n",
    "# (very simple animation)\n",
    "from IPython.display import clear_output\n",
    "from time import sleep"
   ]
  },
  {
   "cell_type": "markdown",
   "metadata": {},
   "source": [
    "### Functions"
   ]
  },
  {
   "cell_type": "code",
   "execution_count": 3,
   "metadata": {},
   "outputs": [],
   "source": [
    "# visualization routines:\n",
    "from tensorflow import Session\n",
    "def visualize_CNN_training(network,\n",
    "                               image_generator, resolution,\n",
    "                    steps=100, batchsize=10,\n",
    "                              visualize_nsteps=1, plot_img_pixels=3,\n",
    "                          plot_img_cols=10,\n",
    "                          plot_img_rows=5,\n",
    "                          show_intermediate_layers=True,sess=Session()):\n",
    "    \"\"\"\n",
    "    Visualize the training of a (2D) convolutional neural network autoencoder.\n",
    "    \n",
    "    network is the network that you have defined using keras.\n",
    "    \n",
    "    'resolution' (called M below) is the image resolution in pixels\n",
    "    \n",
    "    image_generator is the name of a function that\n",
    "    is called like\n",
    "        image_generator(batchsize,x,y)\n",
    "    and which has to return an array of shape\n",
    "        [batchsize,M,M]\n",
    "    that contains randomly generated MxM images (e.g. randomly\n",
    "    placed circles or whatever you want to consider). The\n",
    "    MxM arrays x and y are already filled with coordinates between -1 and 1.\n",
    "    \n",
    "    An example that returns images of randomly placed circles:\n",
    "    \n",
    "    def my_generator(batchsize,x,y):\n",
    "        R=np.random.uniform(size=batchsize)\n",
    "        x0=np.random.uniform(size=batchsize,low=-1,high=1)\n",
    "        y0=np.random.uniform(size=batchsize,low=-1,high=1)\n",
    "        return( 1.0*((x[None,:,:]-x0[:,None,None])**2 + (y[None,:,:]-y0[:,None,None])**2 < R[:,None,None]**2) )\n",
    "\n",
    "   \n",
    "    steps is the number of training steps\n",
    "    \n",
    "    batchsize is the number of samples per training step\n",
    "            \n",
    "    visualize_n_steps>1 means skip some steps before\n",
    "    visualizing again (can speed up things)\n",
    "    \n",
    "    show_intermediate_layers==True means show the intermediate activations.\n",
    "    Otherwise show the weights!\n",
    "    \n",
    "    These are always shown in the upper left corner, as a tiled image,\n",
    "    whose properties are determined by:\n",
    "        plot_img_pixels: the resolution for each of the image tiles\n",
    "        plot_img_cols  : the number of columns of images\n",
    "        plot_img_rows  : the number of rows of images\n",
    "    Images (activations or weights) that are larger will be cut off.\n",
    "    If there are more images than fit, the rest will be left out.\n",
    "    The lowest layer starts in the bottom left. For activations, for\n",
    "    each layer one runs through all the channels, and then the images\n",
    "    for the next layer will start. Likewise for weights.\n",
    "    \"\"\"\n",
    "    global y_target # allow access to target from outside\n",
    "    M=resolution\n",
    "\n",
    "    vals=np.linspace(-1,1,M)\n",
    "    x,y=np.meshgrid(vals,vals)\n",
    "\n",
    "    y_test=np.zeros([1,M,M,1],dtype=np.float32)\n",
    "    y_test[:,:,:,0]=image_generator(1,x,y)\n",
    "\n",
    "    y_in=np.zeros([batchsize,M,M,1])\n",
    "\n",
    "    costs=np.zeros(steps)\n",
    "    extractor=get_layer_activation_extractor(network)\n",
    "\n",
    "    for j in range(steps):\n",
    "        # produce samples:\n",
    "        y_in[:,:,:,0]=image_generator(batchsize,x,y).astype(np.float32)\n",
    "        y_target=np.copy(y_in.astype(np.float32)) # autoencoder wants to reproduce its input!\n",
    "\n",
    "        # do one training step on this batch of samples:\n",
    "        costs[j]=network.train_on_batch(y_in,y_target)\n",
    "\n",
    "        # now visualize the updated network:\n",
    "        if j%visualize_nsteps==0:\n",
    "            clear_output(wait=True) # for animation\n",
    "            if j>10:\n",
    "                cost_max=np.average(costs[0:j])*1.5\n",
    "            else:\n",
    "                cost_max=costs[0]\n",
    "\n",
    "            # nice layout (needs matplotlib v3)\n",
    "            fig=plt.figure(constrained_layout=True,figsize=(8,4))\n",
    "            gs=fig.add_gridspec(ncols=8,nrows=4)\n",
    "            filter_plot=fig.add_subplot(gs[0:3,0:4])\n",
    "            cost_plot=fig.add_subplot(gs[3,0:4])\n",
    "            test_in_plot=fig.add_subplot(gs[0:2,4:6])\n",
    "            test_out_plot=fig.add_subplot(gs[0:2,6:8])\n",
    "\n",
    "            cost_plot.plot(costs)\n",
    "            cost_plot.set_ylim([0,cost_max])\n",
    "\n",
    "            # test the network on a fixed test image!\n",
    "            y_test_out=network.predict_on_batch(y_test)\n",
    "            test_in_plot.imshow(y_test[0,:,:,0],origin='lower')\n",
    "            test_out_plot.imshow(y_test_out[0,:,:,0],origin='lower')\n",
    "            test_in_plot.axis('off')\n",
    "            test_out_plot.axis('off')\n",
    "\n",
    "            if show_intermediate_layers:\n",
    "                features=sess.run(extractor(y_test))\n",
    "                n1=0; n2=0\n",
    "                max_n1=plot_img_rows\n",
    "                max_n2=plot_img_cols\n",
    "                pix=plot_img_pixels\n",
    "                img=np.full([(pix+1)*max_n1,(pix+1)*max_n2],1.0)\n",
    "                for feature in features:\n",
    "                    for m in range(feature.shape[-1]):\n",
    "                        w=feature[0,:,:,m]\n",
    "                        ws=np.shape(w)\n",
    "                        if n1<max_n1 and n2<max_n2:\n",
    "                            W=np.zeros([pix,pix])\n",
    "                            if ws[0]<pix:\n",
    "                                W[0:ws[0],0:ws[0]]=w[:,:]\n",
    "                            else:\n",
    "                                #W[:,:]=w[0:pix,0:pix]  \n",
    "                                W=w[0:pix,0:pix]  \n",
    "                            img[n1*(pix+1):(n1+1)*(pix+1)-1,n2*(pix+1):(n2+1)*(pix+1)-1]=W\n",
    "                            n2+=1\n",
    "                            if n2>=max_n2:\n",
    "                                n2=0\n",
    "                                n1+=1                \n",
    "            else: # rather, we want the weights! (filters)\n",
    "                n1=0; n2=0\n",
    "                max_n1=plot_img_rows\n",
    "                max_n2=plot_img_cols\n",
    "                pix=plot_img_pixels\n",
    "                img=np.zeros([(pix+1)*max_n1,(pix+1)*max_n2])\n",
    "                for ly in network.layers:\n",
    "                    w=ly.get_weights()\n",
    "                    if w!=[]:\n",
    "                        w=w[0]\n",
    "                        ws=np.shape(w)\n",
    "                        for k1 in range(ws[2]):\n",
    "                            for k2 in range(ws[3]):\n",
    "                                if n1<max_n1 and n2<max_n2:\n",
    "                                    W=np.zeros([pix,pix])\n",
    "                                    if ws[0]<pix:\n",
    "                                        W[0:ws[0],0:ws[0]]=w[:,:,k1,k2]\n",
    "                                    else:\n",
    "                                        W[:,:]=w[0:pix,0:pix,k1,k2]                            \n",
    "                                    img[n1*(pix+1):(n1+1)*(pix+1)-1,n2*(pix+1):(n2+1)*(pix+1)-1]=W\n",
    "                                    n2+=1\n",
    "                                    if n2>=max_n2:\n",
    "                                        n2=0\n",
    "                                        n1+=1\n",
    "\n",
    "            filter_plot.imshow(img,origin='lower')\n",
    "            filter_plot.axis('off')\n",
    "            plt.show()\n",
    "        print(\"Final cost value (averaged over last 50 batches): \", np.average(costs[-50:]))\n",
    "\n",
    "\n",
    "def print_layers(network, y_in):\n",
    "    \"\"\"\n",
    "    Call this on some test images y_in, to get a print-out of\n",
    "    the layer sizes. Shapes shown are (batchsize,pixels,pixels,channels).\n",
    "    After a call to the visualization routine, y_target will contain\n",
    "    the last set of training images, so you could feed those in here.\n",
    "    \"\"\"\n",
    "    layer_features=get_layer_activations(network,y_in)\n",
    "    for idx,feature in enumerate(layer_features):\n",
    "        s=np.shape(feature)\n",
    "        print(\"Layer \"+str(idx)+\": \"+str(s[1]*s[2]*s[3])+\" neurons / \", s)\n",
    "\n",
    "def get_layer_activation_extractor(network):\n",
    "    return(Model(inputs=network.inputs,\n",
    "                            outputs=[layer.output for layer in network.layers]))\n",
    "\n",
    "def get_layer_activations(network, y_in):\n",
    "    \"\"\"\n",
    "    Call this on some test images y_in, to get the intermediate \n",
    "    layer neuron values. These are returned in a list, with one\n",
    "    entry for each layer (the entries are arrays).\n",
    "    \"\"\"\n",
    "    extractor=get_layer_activation_extractor(network)\n",
    "    layer_features = extractor(y_in)\n",
    "    return(layer_features)\n"
   ]
  },
  {
   "cell_type": "markdown",
   "metadata": {},
   "source": [
    "## Example 1: Reproducing randomly placed circles\n",
    "\n",
    "This is not even an autoencoder: it never shrinks the size of the layers, so in principle it should eventually work perfectly, but it still has to be trained!"
   ]
  },
  {
   "cell_type": "code",
   "execution_count": 4,
   "metadata": {},
   "outputs": [],
   "source": [
    "def my_generator(batchsize,x,y):\n",
    "    R=np.random.uniform(size=batchsize)\n",
    "    x0=np.random.uniform(size=batchsize,low=-1,high=1)\n",
    "    y0=np.random.uniform(size=batchsize,low=-1,high=1)\n",
    "    return( 1.0*((x[None,:,:]-x0[:,None,None])**2 + (y[None,:,:]-y0[:,None,None])**2 < R[:,None,None]**2) ).astype(np.float32)"
   ]
  },
  {
   "cell_type": "code",
   "execution_count": 5,
   "metadata": {
    "jupyter": {
     "outputs_hidden": true
    }
   },
   "outputs": [
    {
     "ename": "AttributeError",
     "evalue": "'numpy.ndarray' object has no attribute 'get_shape'",
     "output_type": "error",
     "traceback": [
      "\u001b[1;31m---------------------------------------------------------------------------\u001b[0m",
      "\u001b[1;31mAttributeError\u001b[0m                            Traceback (most recent call last)",
      "\u001b[1;32m<ipython-input-5-27d14c44d82e>\u001b[0m in \u001b[0;36m<module>\u001b[1;34m()\u001b[0m\n\u001b[0;32m     12\u001b[0m                            \u001b[0msteps\u001b[0m\u001b[1;33m=\u001b[0m\u001b[1;36m100\u001b[0m\u001b[1;33m,\u001b[0m \u001b[0mbatchsize\u001b[0m\u001b[1;33m=\u001b[0m\u001b[1;36m10\u001b[0m\u001b[1;33m,\u001b[0m\u001b[1;33m\u001b[0m\u001b[0m\n\u001b[0;32m     13\u001b[0m                            \u001b[0mvisualize_nsteps\u001b[0m\u001b[1;33m=\u001b[0m\u001b[1;36m10\u001b[0m\u001b[1;33m,\u001b[0m\u001b[1;33m\u001b[0m\u001b[0m\n\u001b[1;32m---> 14\u001b[1;33m                            plot_img_pixels=50, plot_img_rows=3, plot_img_cols=5,sess=sess)\n\u001b[0m",
      "\u001b[1;32m<ipython-input-3-67428439c927>\u001b[0m in \u001b[0;36mvisualize_CNN_training\u001b[1;34m(network, image_generator, resolution, steps, batchsize, visualize_nsteps, plot_img_pixels, plot_img_cols, plot_img_rows, show_intermediate_layers, sess)\u001b[0m\n\u001b[0;32m    103\u001b[0m \u001b[1;33m\u001b[0m\u001b[0m\n\u001b[0;32m    104\u001b[0m             \u001b[1;32mif\u001b[0m \u001b[0mshow_intermediate_layers\u001b[0m\u001b[1;33m:\u001b[0m\u001b[1;33m\u001b[0m\u001b[0m\n\u001b[1;32m--> 105\u001b[1;33m                 \u001b[0mfeatures\u001b[0m\u001b[1;33m=\u001b[0m\u001b[0msess\u001b[0m\u001b[1;33m.\u001b[0m\u001b[0mrun\u001b[0m\u001b[1;33m(\u001b[0m\u001b[0mextractor\u001b[0m\u001b[1;33m(\u001b[0m\u001b[0my_test\u001b[0m\u001b[1;33m)\u001b[0m\u001b[1;33m)\u001b[0m\u001b[1;33m\u001b[0m\u001b[0m\n\u001b[0m\u001b[0;32m    106\u001b[0m                 \u001b[0mn1\u001b[0m\u001b[1;33m=\u001b[0m\u001b[1;36m0\u001b[0m\u001b[1;33m;\u001b[0m \u001b[0mn2\u001b[0m\u001b[1;33m=\u001b[0m\u001b[1;36m0\u001b[0m\u001b[1;33m\u001b[0m\u001b[0m\n\u001b[0;32m    107\u001b[0m                 \u001b[0mmax_n1\u001b[0m\u001b[1;33m=\u001b[0m\u001b[0mplot_img_rows\u001b[0m\u001b[1;33m\u001b[0m\u001b[0m\n",
      "\u001b[1;32m~\\Anaconda3\\envs\\tensorflow\\lib\\site-packages\\tensorflow\\python\\keras\\_impl\\keras\\engine\\base_layer.py\u001b[0m in \u001b[0;36m__call__\u001b[1;34m(self, inputs, *args, **kwargs)\u001b[0m\n\u001b[0;32m    312\u001b[0m     \"\"\"\n\u001b[0;32m    313\u001b[0m     \u001b[1;31m# Actually call the layer (optionally building it).\u001b[0m\u001b[1;33m\u001b[0m\u001b[1;33m\u001b[0m\u001b[0m\n\u001b[1;32m--> 314\u001b[1;33m     \u001b[0moutput\u001b[0m \u001b[1;33m=\u001b[0m \u001b[0msuper\u001b[0m\u001b[1;33m(\u001b[0m\u001b[0mLayer\u001b[0m\u001b[1;33m,\u001b[0m \u001b[0mself\u001b[0m\u001b[1;33m)\u001b[0m\u001b[1;33m.\u001b[0m\u001b[0m__call__\u001b[0m\u001b[1;33m(\u001b[0m\u001b[0minputs\u001b[0m\u001b[1;33m,\u001b[0m \u001b[1;33m*\u001b[0m\u001b[0margs\u001b[0m\u001b[1;33m,\u001b[0m \u001b[1;33m**\u001b[0m\u001b[0mkwargs\u001b[0m\u001b[1;33m)\u001b[0m\u001b[1;33m\u001b[0m\u001b[0m\n\u001b[0m\u001b[0;32m    315\u001b[0m \u001b[1;33m\u001b[0m\u001b[0m\n\u001b[0;32m    316\u001b[0m     \u001b[1;32mif\u001b[0m \u001b[0margs\u001b[0m \u001b[1;32mand\u001b[0m \u001b[0mgetattr\u001b[0m\u001b[1;33m(\u001b[0m\u001b[0mself\u001b[0m\u001b[1;33m,\u001b[0m \u001b[1;34m'_uses_inputs_arg'\u001b[0m\u001b[1;33m,\u001b[0m \u001b[1;32mTrue\u001b[0m\u001b[1;33m)\u001b[0m\u001b[1;33m:\u001b[0m\u001b[1;33m\u001b[0m\u001b[0m\n",
      "\u001b[1;32m~\\Anaconda3\\envs\\tensorflow\\lib\\site-packages\\tensorflow\\python\\layers\\base.py\u001b[0m in \u001b[0;36m__call__\u001b[1;34m(self, inputs, *args, **kwargs)\u001b[0m\n\u001b[0;32m    715\u001b[0m \u001b[1;33m\u001b[0m\u001b[0m\n\u001b[0;32m    716\u001b[0m         \u001b[1;32mif\u001b[0m \u001b[1;32mnot\u001b[0m \u001b[0min_deferred_mode\u001b[0m\u001b[1;33m:\u001b[0m\u001b[1;33m\u001b[0m\u001b[0m\n\u001b[1;32m--> 717\u001b[1;33m           \u001b[0moutputs\u001b[0m \u001b[1;33m=\u001b[0m \u001b[0mself\u001b[0m\u001b[1;33m.\u001b[0m\u001b[0mcall\u001b[0m\u001b[1;33m(\u001b[0m\u001b[0minputs\u001b[0m\u001b[1;33m,\u001b[0m \u001b[1;33m*\u001b[0m\u001b[0margs\u001b[0m\u001b[1;33m,\u001b[0m \u001b[1;33m**\u001b[0m\u001b[0mkwargs\u001b[0m\u001b[1;33m)\u001b[0m\u001b[1;33m\u001b[0m\u001b[0m\n\u001b[0m\u001b[0;32m    718\u001b[0m           \u001b[1;32mif\u001b[0m \u001b[0moutputs\u001b[0m \u001b[1;32mis\u001b[0m \u001b[1;32mNone\u001b[0m\u001b[1;33m:\u001b[0m\u001b[1;33m\u001b[0m\u001b[0m\n\u001b[0;32m    719\u001b[0m             raise ValueError('A layer\\'s `call` method should return a Tensor '\n",
      "\u001b[1;32m~\\Anaconda3\\envs\\tensorflow\\lib\\site-packages\\tensorflow\\python\\keras\\_impl\\keras\\engine\\network.py\u001b[0m in \u001b[0;36mcall\u001b[1;34m(self, inputs, training, mask)\u001b[0m\n\u001b[0;32m    632\u001b[0m     outputs, _ = self._run_internal_graph(inputs,\n\u001b[0;32m    633\u001b[0m                                           \u001b[0mtraining\u001b[0m\u001b[1;33m=\u001b[0m\u001b[0mtraining\u001b[0m\u001b[1;33m,\u001b[0m\u001b[1;33m\u001b[0m\u001b[0m\n\u001b[1;32m--> 634\u001b[1;33m                                           mask=masks)\n\u001b[0m\u001b[0;32m    635\u001b[0m     \u001b[1;32mreturn\u001b[0m \u001b[0moutputs\u001b[0m\u001b[1;33m\u001b[0m\u001b[0m\n\u001b[0;32m    636\u001b[0m \u001b[1;33m\u001b[0m\u001b[0m\n",
      "\u001b[1;32m~\\Anaconda3\\envs\\tensorflow\\lib\\site-packages\\tensorflow\\python\\keras\\_impl\\keras\\engine\\network.py\u001b[0m in \u001b[0;36m_run_internal_graph\u001b[1;34m(self, inputs, training, mask)\u001b[0m\n\u001b[0;32m    866\u001b[0m \u001b[1;33m\u001b[0m\u001b[0m\n\u001b[0;32m    867\u001b[0m       \u001b[1;32mif\u001b[0m \u001b[0moutput_shapes\u001b[0m \u001b[1;32mis\u001b[0m \u001b[1;32mnot\u001b[0m \u001b[1;32mNone\u001b[0m\u001b[1;33m:\u001b[0m\u001b[1;33m\u001b[0m\u001b[0m\n\u001b[1;32m--> 868\u001b[1;33m         \u001b[0minput_shapes\u001b[0m \u001b[1;33m=\u001b[0m \u001b[1;33m[\u001b[0m\u001b[0mtf_layers_util\u001b[0m\u001b[1;33m.\u001b[0m\u001b[0mstatic_shape\u001b[0m\u001b[1;33m(\u001b[0m\u001b[0mx\u001b[0m\u001b[1;33m)\u001b[0m \u001b[1;32mfor\u001b[0m \u001b[0mx\u001b[0m \u001b[1;32min\u001b[0m \u001b[0minputs\u001b[0m\u001b[1;33m]\u001b[0m\u001b[1;33m\u001b[0m\u001b[0m\n\u001b[0m\u001b[0;32m    869\u001b[0m         \u001b[0mcache_key\u001b[0m \u001b[1;33m=\u001b[0m \u001b[0mtf_layers_util\u001b[0m\u001b[1;33m.\u001b[0m\u001b[0mobject_list_uid\u001b[0m\u001b[1;33m(\u001b[0m\u001b[0minput_shapes\u001b[0m\u001b[1;33m)\u001b[0m\u001b[1;33m\u001b[0m\u001b[0m\n\u001b[0;32m    870\u001b[0m         \u001b[0mself\u001b[0m\u001b[1;33m.\u001b[0m\u001b[0m_output_shape_cache\u001b[0m\u001b[1;33m[\u001b[0m\u001b[0mcache_key\u001b[0m\u001b[1;33m]\u001b[0m \u001b[1;33m=\u001b[0m \u001b[0moutput_shapes\u001b[0m\u001b[1;33m\u001b[0m\u001b[0m\n",
      "\u001b[1;32m~\\Anaconda3\\envs\\tensorflow\\lib\\site-packages\\tensorflow\\python\\keras\\_impl\\keras\\engine\\network.py\u001b[0m in \u001b[0;36m<listcomp>\u001b[1;34m(.0)\u001b[0m\n\u001b[0;32m    866\u001b[0m \u001b[1;33m\u001b[0m\u001b[0m\n\u001b[0;32m    867\u001b[0m       \u001b[1;32mif\u001b[0m \u001b[0moutput_shapes\u001b[0m \u001b[1;32mis\u001b[0m \u001b[1;32mnot\u001b[0m \u001b[1;32mNone\u001b[0m\u001b[1;33m:\u001b[0m\u001b[1;33m\u001b[0m\u001b[0m\n\u001b[1;32m--> 868\u001b[1;33m         \u001b[0minput_shapes\u001b[0m \u001b[1;33m=\u001b[0m \u001b[1;33m[\u001b[0m\u001b[0mtf_layers_util\u001b[0m\u001b[1;33m.\u001b[0m\u001b[0mstatic_shape\u001b[0m\u001b[1;33m(\u001b[0m\u001b[0mx\u001b[0m\u001b[1;33m)\u001b[0m \u001b[1;32mfor\u001b[0m \u001b[0mx\u001b[0m \u001b[1;32min\u001b[0m \u001b[0minputs\u001b[0m\u001b[1;33m]\u001b[0m\u001b[1;33m\u001b[0m\u001b[0m\n\u001b[0m\u001b[0;32m    869\u001b[0m         \u001b[0mcache_key\u001b[0m \u001b[1;33m=\u001b[0m \u001b[0mtf_layers_util\u001b[0m\u001b[1;33m.\u001b[0m\u001b[0mobject_list_uid\u001b[0m\u001b[1;33m(\u001b[0m\u001b[0minput_shapes\u001b[0m\u001b[1;33m)\u001b[0m\u001b[1;33m\u001b[0m\u001b[0m\n\u001b[0;32m    870\u001b[0m         \u001b[0mself\u001b[0m\u001b[1;33m.\u001b[0m\u001b[0m_output_shape_cache\u001b[0m\u001b[1;33m[\u001b[0m\u001b[0mcache_key\u001b[0m\u001b[1;33m]\u001b[0m \u001b[1;33m=\u001b[0m \u001b[0moutput_shapes\u001b[0m\u001b[1;33m\u001b[0m\u001b[0m\n",
      "\u001b[1;32m~\\Anaconda3\\envs\\tensorflow\\lib\\site-packages\\tensorflow\\python\\layers\\utils.py\u001b[0m in \u001b[0;36mstatic_shape\u001b[1;34m(x)\u001b[0m\n\u001b[0;32m    244\u001b[0m     \u001b[1;32mreturn\u001b[0m \u001b[1;32mNone\u001b[0m\u001b[1;33m\u001b[0m\u001b[0m\n\u001b[0;32m    245\u001b[0m   \u001b[1;32mtry\u001b[0m\u001b[1;33m:\u001b[0m\u001b[1;33m\u001b[0m\u001b[0m\n\u001b[1;32m--> 246\u001b[1;33m     \u001b[1;32mreturn\u001b[0m \u001b[0mtuple\u001b[0m\u001b[1;33m(\u001b[0m\u001b[0mx\u001b[0m\u001b[1;33m.\u001b[0m\u001b[0mget_shape\u001b[0m\u001b[1;33m(\u001b[0m\u001b[1;33m)\u001b[0m\u001b[1;33m.\u001b[0m\u001b[0mas_list\u001b[0m\u001b[1;33m(\u001b[0m\u001b[1;33m)\u001b[0m\u001b[1;33m)\u001b[0m\u001b[1;33m\u001b[0m\u001b[0m\n\u001b[0m\u001b[0;32m    247\u001b[0m   \u001b[1;32mexcept\u001b[0m \u001b[0mValueError\u001b[0m\u001b[1;33m:\u001b[0m\u001b[1;33m\u001b[0m\u001b[0m\n\u001b[0;32m    248\u001b[0m     \u001b[1;32mreturn\u001b[0m \u001b[1;32mNone\u001b[0m\u001b[1;33m\u001b[0m\u001b[0m\n",
      "\u001b[1;31mAttributeError\u001b[0m: 'numpy.ndarray' object has no attribute 'get_shape'"
     ]
    },
    {
     "data": {
      "image/png": "[encoded data removed]",
      "text/plain": [
       "<Figure size 576x288 with 12 Axes>"
      ]
     },
     "metadata": {
      "needs_background": "light"
     },
     "output_type": "display_data"
    }
   ],
   "source": [
    "with Session() as sess:\n",
    "    Net=Sequential()\n",
    "    # 3x3 kernel size, 10 channels in first hidden layer:\n",
    "    Net.add(Conv2D(10,3,input_shape=(None,None,1),\n",
    "                   activation=\"sigmoid\",padding='same'))\n",
    "    # 3x3 kernel size, only 1 channel in last hidden layer:\n",
    "    Net.add(Conv2D(1,3,activation=\"linear\",padding='same'))\n",
    "    Net.compile(loss='mean_squared_error',\n",
    "                  optimizer='adam')\n",
    "    \n",
    "    visualize_CNN_training(Net, my_generator, 50,\n",
    "                           steps=100, batchsize=10,\n",
    "                           visualize_nsteps=10,\n",
    "                           plot_img_pixels=50, plot_img_rows=3, plot_img_cols=5,sess=sess)"
   ]
  },
  {
   "cell_type": "code",
   "execution_count": 21,
   "metadata": {
    "jupyter": {
     "outputs_hidden": true
    }
   },
   "outputs": [
    {
     "data": {
      "image/png": "[encoded data removed]",
      "text/plain": [
       "<Figure size 720x72 with 10 Axes>"
      ]
     },
     "metadata": {
      "needs_background": "light"
     },
     "output_type": "display_data"
    }
   ],
   "source": [
    "# show the typical training images (these are available\n",
    "# in the global variable y_target after calling the visualization routine)\n",
    "fig,ax=plt.subplots(ncols=10,nrows=1,figsize=(10,1))\n",
    "for j in range(10):\n",
    "    ax[j].imshow(y_target[j,:,:,0],origin='lower') # the last training images...\n",
    "    ax[j].axis('off')\n",
    "plt.show()"
   ]
  },
  {
   "cell_type": "markdown",
   "metadata": {},
   "source": [
    "## Example 2: Reproducing randomly placed circles with a true autoencoder\n"
   ]
  },
  {
   "cell_type": "code",
   "execution_count": 23,
   "metadata": {},
   "outputs": [
    {
     "data": {
      "image/png": "[encoded data removed]",
      "text/plain": [
       "<Figure size 576x288 with 4 Axes>"
      ]
     },
     "metadata": {
      "needs_background": "light"
     },
     "output_type": "display_data"
    },
    {
     "name": "stdout",
     "output_type": "stream",
     "text": [
      "Final cost value (averaged over last 50 batches):  0.08817746639251708\n",
      "Final cost value (averaged over last 50 batches):  0.09015785962343216\n",
      "Final cost value (averaged over last 50 batches):  0.09220468148589134\n",
      "Final cost value (averaged over last 50 batches):  0.09441898331046104\n",
      "Final cost value (averaged over last 50 batches):  0.09601487144827843\n",
      "Final cost value (averaged over last 50 batches):  0.09817516788840294\n",
      "Final cost value (averaged over last 50 batches):  0.100148167014122\n",
      "Final cost value (averaged over last 50 batches):  0.10212069615721703\n",
      "Final cost value (averaged over last 50 batches):  0.10416530787944794\n",
      "Final cost value (averaged over last 50 batches):  0.10591827645897865\n"
     ]
    }
   ],
   "source": [
    "def my_generator(batchsize,x,y):\n",
    "    R=np.random.uniform(size=batchsize)\n",
    "    x0=np.random.uniform(size=batchsize,low=-1,high=1)\n",
    "    y0=np.random.uniform(size=batchsize,low=-1,high=1)\n",
    "    return( 1.0*((x[None,:,:]-x0[:,None,None])**2 + (y[None,:,:]-y0[:,None,None])**2 < R[:,None,None]**2) )\n",
    "\n",
    "with Session() as sess:\n",
    "    Net=Sequential()\n",
    "    # 3x3 kernel size, 10 channels in first hidden layer:\n",
    "    Net.add(Conv2D(4,5,input_shape=(None,None,1),\n",
    "                   activation=\"sigmoid\",padding='same'))\n",
    "    Net.add(AveragePooling2D(pool_size=(3,3),padding='same')) # down\n",
    "    Net.add(Conv2D(4,5,\n",
    "                   activation=\"sigmoid\",padding='same'))\n",
    "    Net.add(AveragePooling2D(pool_size=(3,3),padding='same')) # down\n",
    "    Net.add(Conv2D(1,3,\n",
    "                   activation=\"sigmoid\",padding='same'))\n",
    "    Net.add(UpSampling2D(size=(3,3))) # up\n",
    "    Net.add(Conv2D(4,5,\n",
    "                   activation=\"sigmoid\",padding='same'))\n",
    "    Net.add(UpSampling2D(size=(3,3))) # up\n",
    "    Net.add(Conv2D(4,5,\n",
    "                   activation=\"sigmoid\",padding='same'))\n",
    "    Net.add(Conv2D(1,3,activation=\"linear\",padding='same'))\n",
    "    Net.compile(loss='mean_squared_error',\n",
    "                  optimizer='adam')\n",
    "\n",
    "    visualize_CNN_training(Net, my_generator, 9*3,\n",
    "                        steps=500, batchsize=30,\n",
    "                                  visualize_nsteps=10,\n",
    "                          plot_img_cols=8, plot_img_rows=4,\n",
    "                          plot_img_pixels=27,sess=sess)"
   ]
  },
  {
   "cell_type": "code",
   "execution_count": 25,
   "metadata": {},
   "outputs": [
    {
     "name": "stdout",
     "output_type": "stream",
     "text": [
      "Model: \"sequential_6\"\n",
      "_________________________________________________________________\n",
      "Layer (type)                 Output Shape              Param #   \n",
      "=================================================================\n",
      "conv2d_12 (Conv2D)           (None, None, None, 4)     104       \n",
      "_________________________________________________________________\n",
      "average_pooling2d (AveragePo (None, None, None, 4)     0         \n",
      "_________________________________________________________________\n",
      "conv2d_13 (Conv2D)           (None, None, None, 4)     404       \n",
      "_________________________________________________________________\n",
      "average_pooling2d_1 (Average (None, None, None, 4)     0         \n",
      "_________________________________________________________________\n",
      "conv2d_14 (Conv2D)           (None, None, None, 1)     37        \n",
      "_________________________________________________________________\n",
      "up_sampling2d (UpSampling2D) (None, None, None, 1)     0         \n",
      "_________________________________________________________________\n",
      "conv2d_15 (Conv2D)           (None, None, None, 4)     104       \n",
      "_________________________________________________________________\n",
      "up_sampling2d_1 (UpSampling2 (None, None, None, 4)     0         \n",
      "_________________________________________________________________\n",
      "conv2d_16 (Conv2D)           (None, None, None, 4)     404       \n",
      "_________________________________________________________________\n",
      "conv2d_17 (Conv2D)           (None, None, None, 1)     37        \n",
      "=================================================================\n",
      "Total params: 1,090\n",
      "Trainable params: 1,090\n",
      "Non-trainable params: 0\n",
      "_________________________________________________________________\n"
     ]
    }
   ],
   "source": [
    "Net.summary()"
   ]
  },
  {
   "cell_type": "code",
   "execution_count": 26,
   "metadata": {
    "jupyter": {
     "outputs_hidden": true
    }
   },
   "outputs": [
    {
     "name": "stdout",
     "output_type": "stream",
     "text": [
      "Layer 0: 2916 neurons /  (30, 27, 27, 4)\n",
      "Layer 1: 324 neurons /  (30, 9, 9, 4)\n",
      "Layer 2: 324 neurons /  (30, 9, 9, 4)\n",
      "Layer 3: 36 neurons /  (30, 3, 3, 4)\n",
      "Layer 4: 9 neurons /  (30, 3, 3, 1)\n",
      "Layer 5: 81 neurons /  (30, 9, 9, 1)\n",
      "Layer 6: 324 neurons /  (30, 9, 9, 4)\n",
      "Layer 7: 2916 neurons /  (30, 27, 27, 4)\n",
      "Layer 8: 2916 neurons /  (30, 27, 27, 4)\n",
      "Layer 9: 729 neurons /  (30, 27, 27, 1)\n"
     ]
    }
   ],
   "source": [
    "print_layers(Net,y_target) # find out layer sizes for these training images!\n",
    "# y_target is a global variable that is initialized by the\n",
    "# training visualization routine, and it contains the last few training images."
   ]
  },
  {
   "cell_type": "markdown",
   "metadata": {},
   "source": [
    "# Tutorial Exercise 1: Try \"relu\" instead of sigmoid!\n",
    "\n",
    "How does the appearance of the pictures change? Inspect and try to interpret the intermediate layer results shown in the upper left part of the figure."
   ]
  },
  {
   "cell_type": "markdown",
   "metadata": {},
   "source": [
    "# Tutorial Exercise 2: Try this on another type of pictures!\n",
    "\n",
    "Change the my_generator accordingly.\n"
   ]
  },
  {
   "cell_type": "markdown",
   "metadata": {},
   "source": [
    "# Homework Problem: The Grand Autoencoder Challenge\n",
    "\n",
    "Using the above image generator (which produces random circles), and the above image size 27x27, try to set up an autoencoder network that 'works best'. The rules of the game are:\n",
    "\n",
    "- You may create any kind of network, but the narrowest layer (the bottleneck) must only contain no more than 3 neurons (this defines the 'HARD' version of the challenge). Alternatively, it must only contain no more than 9 neurons (the 'MEDIUM' version of the challenge). When counting neurons, use the routine print_layers (see above!) after running a bit of the training.\n",
    "\n",
    "- You may also use any kind of optimizer, any settings for the learning rate, and any choice of batch size. No pre-processing/post-processing of the input/output of the network is allowed.\n",
    "\n",
    "- The performance will be judged in the following way: when you start fresh training (after freshly initializing the network), what is the cost value after the network has been trained on 30000 images? (e.g. batchsize=30 and steps=1000). Look at the cost value that is printed after the training run is completed. This must be reproducible, i.e. in case of doubt or if there are several contestants with close cost values, the networks will be trained multiple times, to obtain more precise average cost values.\n",
    "\n",
    "- There is also the LONG-TRAINING version of the challenge: what is the cost value you can reach after training over 100,000 images?\n",
    "\n",
    "To be competitive for the MEDIUM challenge, your final cost should be below 0.02.\n",
    "\n",
    "Please post your intermediate achieved cost functions on the forum, so others can get inspired to fine-tune their network structure!\n"
   ]
  },
  {
   "cell_type": "code",
   "execution_count": 118,
   "metadata": {},
   "outputs": [],
   "source": []
  },
  {
   "cell_type": "code",
   "execution_count": null,
   "metadata": {},
   "outputs": [],
   "source": []
  }
 ],
 "metadata": {
  "kernelspec": {
   "display_name": "Python 3",
   "language": "python",
   "name": "python3"
  },
  "language_info": {
   "codemirror_mode": {
    "name": "ipython",
    "version": 3
   },
   "file_extension": ".py",
   "mimetype": "text/x-python",
   "name": "python",
   "nbconvert_exporter": "python",
   "pygments_lexer": "ipython3",
   "version": "3.5.5"
  }
 },
 "nbformat": 4,
 "nbformat_minor": 4
}
